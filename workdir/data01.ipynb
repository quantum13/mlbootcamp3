{
 "cells": [
  {
   "cell_type": "code",
   "execution_count": 2,
   "metadata": {
    "collapsed": true
   },
   "outputs": [],
   "source": [
    "import pandas as pd"
   ]
  },
  {
   "cell_type": "code",
   "execution_count": 6,
   "metadata": {},
   "outputs": [
    {
     "name": "stdout",
     "output_type": "stream",
     "text": [
      "50579\n"
     ]
    }
   ],
   "source": [
    "with open('workdir/data/train_x_v001.csv') as f:\n",
    "    for i, l in enumerate(f):\n",
    "        continue\n",
    "    print(i)"
   ]
  },
  {
   "cell_type": "code",
   "execution_count": 28,
   "metadata": {},
   "outputs": [],
   "source": [
    "train = pd.read_csv('workdir/data/train_x_v000.csv', delimiter=';')\n",
    "train.index.name = 'id'\n",
    "train.to_csv('workdir/data/train_x_v001.csv')"
   ]
  },
  {
   "cell_type": "code",
   "execution_count": 13,
   "metadata": {},
   "outputs": [],
   "source": [
    "train = pd.read_csv('workdir/data/test_x_v000.csv', delimiter=';')\n",
    "ind = [i + 1000000 for i in train.index.values.tolist()]\n",
    "train.index=ind[:]\n",
    "train.index.name = 'id'\n",
    "train.to_csv('workdir/data/test_x_v001.csv')"
   ]
  },
  {
   "cell_type": "code",
   "execution_count": 36,
   "metadata": {},
   "outputs": [],
   "source": [
    "train = pd.read_csv('workdir/data/train_y_v000.csv', delimiter=';', header=0)\n",
    "train.index.name = 'id'\n",
    "train.to_csv('workdir/data/train_y.csv')"
   ]
  },
  {
   "cell_type": "code",
   "execution_count": 10,
   "metadata": {},
   "outputs": [],
   "source": [
    ""
   ]
  }
 ],
 "metadata": {
  "kernelspec": {
   "display_name": "Python 2",
   "language": "python",
   "name": "python2"
  },
  "language_info": {
   "codemirror_mode": {
    "name": "ipython",
    "version": 2.0
   },
   "file_extension": ".py",
   "mimetype": "text/x-python",
   "name": "python",
   "nbconvert_exporter": "python",
   "pygments_lexer": "ipython2",
   "version": "2.7.6"
  }
 },
 "nbformat": 4,
 "nbformat_minor": 0
}