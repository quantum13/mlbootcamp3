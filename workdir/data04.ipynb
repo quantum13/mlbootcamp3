{
 "cells": [
  {
   "cell_type": "code",
   "execution_count": 9,
   "metadata": {
    "collapsed": false,
    "deletable": true,
    "editable": true
   },
   "outputs": [
    {
     "name": "stdout",
     "output_type": "stream",
     "text": [
      "D:\\ml\\boot\n"
     ]
    }
   ],
   "source": [
    "import pandas as pd\n",
    "import seaborn as sb\n",
    "import numpy as np\n",
    "\n",
    "\n",
    "import os\n",
    "\n",
    "%matplotlib inline\n",
    "\n",
    "print(os.getcwd())"
   ]
  },
  {
   "cell_type": "code",
   "execution_count": 3,
   "metadata": {
    "collapsed": false,
    "deletable": true,
    "editable": true
   },
   "outputs": [
    {
     "name": "stdout",
     "output_type": "stream",
     "text": [
      "25289\n"
     ]
    }
   ],
   "source": [
    "with open('workdir/data/v0001_train_x.csv') as f:\n",
    "    for i, l in enumerate(f):\n",
    "        continue\n",
    "    print(i)"
   ]
  },
  {
   "cell_type": "code",
   "execution_count": 128,
   "metadata": {
    "collapsed": false,
    "deletable": true,
    "editable": true
   },
   "outputs": [
    {
     "name": "stderr",
     "output_type": "stream",
     "text": [
      "D:\\Python36\\lib\\site-packages\\ipykernel\\__main__.py:12: SettingWithCopyWarning: \nA value is trying to be set on a copy of a slice from a DataFrame\n\nSee the caveats in the documentation: http://pandas.pydata.org/pandas-docs/stable/indexing.html#indexing-view-versus-copy\n"
     ]
    },
    {
     "name": "stderr",
     "output_type": "stream",
     "text": [
      "D:\\Python36\\lib\\site-packages\\ipykernel\\__main__.py:17: SettingWithCopyWarning: \nA value is trying to be set on a copy of a slice from a DataFrame\n\nSee the caveats in the documentation: http://pandas.pydata.org/pandas-docs/stable/indexing.html#indexing-view-versus-copy\n"
     ]
    },
    {
     "name": "stderr",
     "output_type": "stream",
     "text": [
      "D:\\Python36\\lib\\site-packages\\ipykernel\\__main__.py:30: SettingWithCopyWarning: \nA value is trying to be set on a copy of a slice from a DataFrame\n\nSee the caveats in the documentation: http://pandas.pydata.org/pandas-docs/stable/indexing.html#indexing-view-versus-copy\n"
     ]
    },
    {
     "name": "stderr",
     "output_type": "stream",
     "text": [
      "D:\\Python36\\lib\\site-packages\\ipykernel\\__main__.py:36: SettingWithCopyWarning: \nA value is trying to be set on a copy of a slice from a DataFrame\n\nSee the caveats in the documentation: http://pandas.pydata.org/pandas-docs/stable/indexing.html#indexing-view-versus-copy\n"
     ]
    },
    {
     "name": "stderr",
     "output_type": "stream",
     "text": [
      "D:\\Python36\\lib\\site-packages\\ipykernel\\__main__.py:42: SettingWithCopyWarning: \nA value is trying to be set on a copy of a slice from a DataFrame\n\nSee the caveats in the documentation: http://pandas.pydata.org/pandas-docs/stable/indexing.html#indexing-view-versus-copy\n"
     ]
    },
    {
     "data": {
      "text/plain": [
       "Index(['maxPlayerLevel', 'numberOfAttemptedLevels',\n       'attemptsOnTheHighestLevel', 'totalNumOfAttempts',\n       'averageNumOfTurnsPerCompletedLevel', 'numberOfBoostersUsed',\n       'fractionOfUsefullBoosters', 'totalScore', 'totalBonusScore',\n       'totalStarsCount', 'numberOfDaysActuallyPlayed',\n       'attemptsOnTheHighestLevel_strange', 'totalNumOfAttempts_0',\n       'totalNumOfAttempts_strange', 'doReturnOnLowerLevels_0',\n       'doReturnOnLowerLevels_1', 'numberOfBoostersUsed_0',\n       'fractionOfUsefullBoosters_0', 'fractionOfUsefullBoosters_1',\n       'totalScore_0', 'totalScore_strange', 'totalBonusScore_0',\n       'totalBonusScore_strange', 'totalStarsCount_0',\n       'totalStarsCount_strange', 'numberOfDaysActuallyPlayed_0',\n       'numberOfDaysActuallyPlayed_14'],\n      dtype='object')"
      ]
     },
     "execution_count": 128,
     "metadata": {},
     "output_type": "execute_result"
    }
   ],
   "source": [
    "from sklearn.preprocessing import normalize\n",
    "\n",
    "x1 = pd.read_csv('workdir/data/v0001_train_x.csv', index_col='id')\n",
    "x2 = pd.read_csv('workdir/data/v0001_test_x.csv', index_col='id')\n",
    "x = x1.append(x2)\n",
    "\n",
    "x['maxPlayerLevel'] = np.log(x['maxPlayerLevel'] + 1)\n",
    "\n",
    "x['numberOfAttemptedLevels'] = np.log(x['numberOfAttemptedLevels'])\n",
    "\n",
    "x[\"attemptsOnTheHighestLevel_strange\"] = (x[\"attemptsOnTheHighestLevel\"] > 70)*1\n",
    "x['attemptsOnTheHighestLevel'][x['attemptsOnTheHighestLevel'] > 70] = 70\n",
    "x['attemptsOnTheHighestLevel'] = np.log(x['attemptsOnTheHighestLevel'])\n",
    "\n",
    "x[\"totalNumOfAttempts_0\"] = (x[\"totalNumOfAttempts\"] == 0)*1\n",
    "x[\"totalNumOfAttempts_strange\"] = (x[\"totalNumOfAttempts\"] > 350)*1\n",
    "x['totalNumOfAttempts'][x['totalNumOfAttempts'] > 350] = 350\n",
    "x['totalNumOfAttempts'] = np.log(x['totalNumOfAttempts'])\n",
    "\n",
    "x = pd.get_dummies(x, columns=[\"doReturnOnLowerLevels\"])\n",
    "\n",
    "x['numberOfBoostersUsed_0'] = (x[\"numberOfBoostersUsed\"] == 0)*1\n",
    "x['numberOfBoostersUsed'] = np.log(x['numberOfBoostersUsed'] + 1)\n",
    "\n",
    "x[\"fractionOfUsefullBoosters_0\"] = (x[\"fractionOfUsefullBoosters\"] == 0)*1\n",
    "x[\"fractionOfUsefullBoosters_1\"] = (x[\"fractionOfUsefullBoosters\"] == 1)*1\n",
    "\n",
    "x['totalScore_0'] = (x[\"totalScore\"] == 0)*1\n",
    "x[\"totalScore_strange\"] = (x[\"totalScore\"] > 25000000)*1\n",
    "x['totalScore'][x['totalScore'] > 25000000] = 25000000\n",
    "x['totalScore'] = x['totalScore']/1000\n",
    "x['totalScore'] = np.log(x['totalScore'] + 1)\n",
    "\n",
    "x['totalBonusScore_0'] = (x[\"totalBonusScore\"] == 0)*1\n",
    "x[\"totalBonusScore_strange\"] = (x[\"totalBonusScore\"] > 600*25)*1\n",
    "x['totalBonusScore'][x['totalBonusScore'] > 600*25] = 600*25\n",
    "x['totalBonusScore'] = x['totalBonusScore']/25\n",
    "x['totalBonusScore'] = np.log(x['totalBonusScore'] + 1)\n",
    "\n",
    "x['totalStarsCount_0'] = (x[\"totalStarsCount\"] == 0)*1\n",
    "x[\"totalStarsCount_strange\"] = (x[\"totalStarsCount\"] > 200)*1\n",
    "x['totalStarsCount'][x['totalStarsCount'] > 200] = 200\n",
    "x['totalStarsCount'] = np.log(x['totalStarsCount'] + 1)\n",
    "\n",
    "x['numberOfDaysActuallyPlayed_0'] = (x[\"numberOfDaysActuallyPlayed\"] == 0)*1\n",
    "x['numberOfDaysActuallyPlayed_14'] = (x[\"numberOfDaysActuallyPlayed\"] == 14)*1\n",
    "\n",
    "num_cols = ['maxPlayerLevel', 'numberOfAttemptedLevels',\n",
    "       'attemptsOnTheHighestLevel', 'totalNumOfAttempts',\n",
    "       'averageNumOfTurnsPerCompletedLevel', 'numberOfBoostersUsed',\n",
    "       'fractionOfUsefullBoosters', 'totalScore', 'totalBonusScore',\n",
    "       'totalStarsCount', 'numberOfDaysActuallyPlayed']\n",
    "\n",
    "for col in num_cols:\n",
    "    x[col] = (x[col] - x[col].mean()) / (x[col].max() - x[col].min())\n",
    "    \n",
    "x.columns"
   ]
  },
  {
   "cell_type": "code",
   "execution_count": 148,
   "metadata": {},
   "outputs": [
    {
     "data": {
      "text/html": [
       "<div>\n",
       "<table border=\"1\" class=\"dataframe\">\n",
       "  <thead>\n",
       "    <tr style=\"text-align: right;\">\n",
       "      <th></th>\n",
       "      <th>maxPlayerLevel</th>\n",
       "      <th>numberOfAttemptedLevels</th>\n",
       "      <th>attemptsOnTheHighestLevel</th>\n",
       "      <th>totalNumOfAttempts</th>\n",
       "      <th>averageNumOfTurnsPerCompletedLevel</th>\n",
       "      <th>numberOfBoostersUsed</th>\n",
       "      <th>fractionOfUsefullBoosters</th>\n",
       "      <th>totalScore</th>\n",
       "      <th>totalBonusScore</th>\n",
       "      <th>totalStarsCount</th>\n",
       "      <th>...</th>\n",
       "      <th>fractionOfUsefullBoosters_0</th>\n",
       "      <th>fractionOfUsefullBoosters_1</th>\n",
       "      <th>totalScore_0</th>\n",
       "      <th>totalScore_strange</th>\n",
       "      <th>totalBonusScore_0</th>\n",
       "      <th>totalBonusScore_strange</th>\n",
       "      <th>totalStarsCount_0</th>\n",
       "      <th>totalStarsCount_strange</th>\n",
       "      <th>numberOfDaysActuallyPlayed_0</th>\n",
       "      <th>numberOfDaysActuallyPlayed_14</th>\n",
       "    </tr>\n",
       "    <tr>\n",
       "      <th>id</th>\n",
       "      <th></th>\n",
       "      <th></th>\n",
       "      <th></th>\n",
       "      <th></th>\n",
       "      <th></th>\n",
       "      <th></th>\n",
       "      <th></th>\n",
       "      <th></th>\n",
       "      <th></th>\n",
       "      <th></th>\n",
       "      <th></th>\n",
       "      <th></th>\n",
       "      <th></th>\n",
       "      <th></th>\n",
       "      <th></th>\n",
       "      <th></th>\n",
       "      <th></th>\n",
       "      <th></th>\n",
       "      <th></th>\n",
       "      <th></th>\n",
       "      <th></th>\n",
       "    </tr>\n",
       "  </thead>\n",
       "  <tbody>\n",
       "    <tr>\n",
       "      <th>1000000</th>\n",
       "      <td>0.05455</td>\n",
       "      <td>-0.007672</td>\n",
       "      <td>0.012271</td>\n",
       "      <td>-0.037552</td>\n",
       "      <td>0.097065</td>\n",
       "      <td>-0.038173</td>\n",
       "      <td>0.46269</td>\n",
       "      <td>0.02386</td>\n",
       "      <td>-0.015338</td>\n",
       "      <td>0.028402</td>\n",
       "      <td>...</td>\n",
       "      <td>0</td>\n",
       "      <td>1</td>\n",
       "      <td>0</td>\n",
       "      <td>0</td>\n",
       "      <td>0</td>\n",
       "      <td>0</td>\n",
       "      <td>0</td>\n",
       "      <td>0</td>\n",
       "      <td>0</td>\n",
       "      <td>0</td>\n",
       "    </tr>\n",
       "  </tbody>\n",
       "</table>\n",
       "<p>1 rows × 27 columns</p>\n",
       "</div>"
      ],
      "text/plain": [
       "<div>\n",
       "<table border=\"1\" class=\"dataframe\">\n",
       "  <thead>\n",
       "    <tr style=\"text-align: right;\">\n",
       "      <th></th>\n",
       "      <th>maxPlayerLevel</th>\n",
       "      <th>numberOfAttemptedLevels</th>\n",
       "      <th>attemptsOnTheHighestLevel</th>\n",
       "      <th>totalNumOfAttempts</th>\n",
       "      <th>averageNumOfTurnsPerCompletedLevel</th>\n",
       "      <th>numberOfBoostersUsed</th>\n",
       "      <th>fractionOfUsefullBoosters</th>\n",
       "      <th>totalScore</th>\n",
       "      <th>totalBonusScore</th>\n",
       "      <th>totalStarsCount</th>\n",
       "      <th>...</th>\n",
       "      <th>fractionOfUsefullBoosters_0</th>\n",
       "      <th>fractionOfUsefullBoosters_1</th>\n",
       "      <th>totalScore_0</th>\n",
       "      <th>totalScore_strange</th>\n",
       "      <th>totalBonusScore_0</th>\n",
       "      <th>totalBonusScore_strange</th>\n",
       "      <th>totalStarsCount_0</th>\n",
       "      <th>totalStarsCount_strange</th>\n",
       "      <th>numberOfDaysActuallyPlayed_0</th>\n",
       "      <th>numberOfDaysActuallyPlayed_14</th>\n",
       "    </tr>\n",
       "    <tr>\n",
       "      <th>id</th>\n",
       "      <th></th>\n",
       "      <th></th>\n",
       "      <th></th>\n",
       "      <th></th>\n",
       "      <th></th>\n",
       "      <th></th>\n",
       "      <th></th>\n",
       "      <th></th>\n",
       "      <th></th>\n",
       "      <th></th>\n",
       "      <th></th>\n",
       "      <th></th>\n",
       "      <th></th>\n",
       "      <th></th>\n",
       "      <th></th>\n",
       "      <th></th>\n",
       "      <th></th>\n",
       "      <th></th>\n",
       "      <th></th>\n",
       "      <th></th>\n",
       "      <th></th>\n",
       "    </tr>\n",
       "  </thead>\n",
       "  <tbody>\n",
       "    <tr>\n",
       "      <th>1000000</th>\n",
       "      <td>0.05455</td>\n",
       "      <td>-0.007672</td>\n",
       "      <td>0.012271</td>\n",
       "      <td>-0.037552</td>\n",
       "      <td>0.097065</td>\n",
       "      <td>-0.038173</td>\n",
       "      <td>0.46269</td>\n",
       "      <td>0.02386</td>\n",
       "      <td>-0.015338</td>\n",
       "      <td>0.028402</td>\n",
       "      <td>...</td>\n",
       "      <td>0</td>\n",
       "      <td>1</td>\n",
       "      <td>0</td>\n",
       "      <td>0</td>\n",
       "      <td>0</td>\n",
       "      <td>0</td>\n",
       "      <td>0</td>\n",
       "      <td>0</td>\n",
       "      <td>0</td>\n",
       "      <td>0</td>\n",
       "    </tr>\n",
       "  </tbody>\n",
       "</table>\n",
       "<p>1 rows × 27 columns</p>\n",
       "</div>"
      ]
     },
     "execution_count": 148,
     "metadata": {},
     "output_type": "execute_result"
    }
   ],
   "source": [
    "x.loc[x1.index.values].to_csv\n",
    "x.loc[x2.index.values]"
   ]
  },
  {
   "cell_type": "code",
   "execution_count": 131,
   "metadata": {
    "collapsed": false,
    "deletable": true,
    "editable": true
   },
   "outputs": [],
   "source": [
    "#g = sb.pairplot(x)\n",
    "#min(x['totalScore'][x['totalScore'] > 100000])\n",
    "#len(x['totalStarsCount'][x['totalStarsCount'] > 200])\n",
    "# x['totalScore'][x['totalScore'] > 25000000] = 25000000\n",
    "# x['totalBonusScore'] = x['totalBonusScore']/25\n",
    "# #  \n",
    "#sb.distplot(( x['totalStarsCount']))"
   ]
  },
  {
   "cell_type": "code",
   "execution_count": 132,
   "metadata": {
    "collapsed": false,
    "deletable": true,
    "editable": true
   },
   "outputs": [
    {
     "name": "stdout",
     "output_type": "stream",
     "text": [
      "maxPlayerLevel -0.474273495549 0.525726504451\nnumberOfAttemptedLevels -0.39867316201 0.60132683799\nattemptsOnTheHighestLevel -0.150880007955 0.849119992045\n"
     ]
    },
    {
     "name": "stdout",
     "output_type": "stream",
     "text": [
      "totalNumOfAttempts -0.412636969871 0.587363030129\naverageNumOfTurnsPerCompletedLevel -0.277935107117 0.722064892883\nnumberOfBoostersUsed -0.284172670219 0.715827329781\nfractionOfUsefullBoosters -0.537309859915 0.462690140085\ntotalScore -0.70256640382 0.29743359618\ntotalBonusScore -0.613694961767 0.386305038233\ntotalStarsCount -0.505833713777 0.494166286223\nnumberOfDaysActuallyPlayed -0.131578947368 0.868421052632\nattemptsOnTheHighestLevel_strange 0 1\ntotalNumOfAttempts_0 0 0\ntotalNumOfAttempts_strange 0 1\ndoReturnOnLowerLevels_0 0 1\ndoReturnOnLowerLevels_1 0 1\nnumberOfBoostersUsed_0 0 1\nfractionOfUsefullBoosters_0 0 1\nfractionOfUsefullBoosters_1 0 1\ntotalScore_0 0 1\ntotalScore_strange 0 1\ntotalBonusScore_0 0 1\ntotalBonusScore_strange 0 1\ntotalStarsCount_0 0 1\ntotalStarsCount_strange 0 1\nnumberOfDaysActuallyPlayed_0 0 0\nnumberOfDaysActuallyPlayed_14 0 1\n"
     ]
    }
   ],
   "source": [
    "for col in x.columns:\n",
    "    print(col, min(x[col]), max(x[col]))"
   ]
  },
  {
   "cell_type": "code",
   "execution_count": 70,
   "metadata": {
    "collapsed": false,
    "deletable": true,
    "editable": true
   },
   "outputs": [
    {
     "data": {
      "text/plain": [
       "Index(['maxPlayerLevel', 'numberOfAttemptedLevels',\n",
       "       'attemptsOnTheHighestLevel', 'totalNumOfAttempts',\n",
       "       'averageNumOfTurnsPerCompletedLevel', 'numberOfBoostersUsed',\n",
       "       'fractionOfUsefullBoosters', 'totalScore', 'totalBonusScore',\n",
       "       'totalStarsCount', 'numberOfDaysActuallyPlayed',\n",
       "       'doReturnOnLowerLevels_0', 'doReturnOnLowerLevels_1'],\n",
       "      dtype='object')"
      ]
     },
     "execution_count": 70,
     "metadata": {},
     "output_type": "execute_result"
    }
   ],
   "source": [
    "xx = pd.get_dummies(x, columns = ['doReturnOnLowerLevels'])\n",
    "xx.columns"
   ]
  },
  {
   "cell_type": "code",
   "execution_count": null,
   "metadata": {
    "collapsed": true,
    "deletable": true,
    "editable": true
   },
   "outputs": [],
   "source": [
    ""
   ]
  }
 ],
 "metadata": {
  "kernelspec": {
   "display_name": "Python 3",
   "language": "python",
   "name": "python3"
  },
  "language_info": {
   "codemirror_mode": {
    "name": "ipython",
    "version": 3.0
   },
   "file_extension": ".py",
   "mimetype": "text/x-python",
   "name": "python",
   "nbconvert_exporter": "python",
   "pygments_lexer": "ipython3",
   "version": "3.6.0"
  }
 },
 "nbformat": 4,
 "nbformat_minor": 0
}