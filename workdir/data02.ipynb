{
 "cells": [
  {
   "cell_type": "code",
   "execution_count": 1,
   "metadata": {
    "collapsed": true
   },
   "outputs": [],
   "source": [
    "import pandas as pd"
   ]
  },
  {
   "cell_type": "code",
   "execution_count": 2,
   "metadata": {},
   "outputs": [],
   "source": [
    "from itertools import combinations_with_replacement\n",
    "\n",
    "train = pd.read_csv('workdir/data/v0004_train_x.csv', index_col='id')\n",
    "for c1, c2 in combinations_with_replacement(train.columns, 2):\n",
    "    train[\"x_{}_{}\".format(c1,c2)] = train[c1] * train[c2]\n",
    "train.to_csv('workdir/data/v0005_train_x.csv')\n",
    "\n",
    "test = pd.read_csv('workdir/data/v0004_test_x.csv', index_col='id')\n",
    "for c1, c2 in combinations_with_replacement(test.columns, 2):\n",
    "    test[\"x_{}_{}\".format(c1,c2)] = test[c1] * test[c2]\n",
    "test.to_csv('workdir/data/v0005_test_x.csv')\n",
    "\n",
    "test = pd.read_csv('workdir/data/v0001_train_y.csv', index_col='id')\n",
    "test.to_csv('workdir/data/v0005_train_y.csv')"
   ]
  },
  {
   "cell_type": "code",
   "execution_count": 28,
   "metadata": {},
   "outputs": [],
   "source": [
    ""
   ]
  },
  {
   "cell_type": "code",
   "execution_count": 14,
   "metadata": {},
   "outputs": [],
   "source": [
    "from itertools import combinations_with_replacement\n",
    "\n",
    "train = pd.read_csv('workdir/data/v0001_train_x.csv', index_col='id')\n",
    "for c1, c2, c3 in combinations_with_replacement(train.columns, 3):\n",
    "    train[\"x_{}_{}_{}\".format(c1,c2, c3)] = train[c1] * train[c2] * train[c3]\n",
    "train.to_csv('workdir/data/v0003_train_x.csv')\n",
    "\n",
    "test = pd.read_csv('workdir/data/v0001_test_x.csv', index_col='id')\n",
    "for c1, c2, c3 in combinations_with_replacement(test.columns, 3):\n",
    "    test[\"x_{}_{}_{}\".format(c1,c2,c3)] = test[c1] * test[c2] * test[c3]\n",
    "test.to_csv('workdir/data/v0003_test_x.csv')\n",
    "\n",
    "test = pd.read_csv('workdir/data/v0001_train_y.csv', index_col='id')\n",
    "test.to_csv('workdir/data/v0003_train_y.csv')"
   ]
  },
  {
   "cell_type": "code",
   "execution_count": 36,
   "metadata": {},
   "outputs": [],
   "source": [
    ""
   ]
  },
  {
   "cell_type": "code",
   "execution_count": 10,
   "metadata": {},
   "outputs": [],
   "source": [
    ""
   ]
  }
 ],
 "metadata": {
  "kernelspec": {
   "display_name": "Python 2",
   "language": "python",
   "name": "python2"
  },
  "language_info": {
   "codemirror_mode": {
    "name": "ipython",
    "version": 2.0
   },
   "file_extension": ".py",
   "mimetype": "text/x-python",
   "name": "python",
   "nbconvert_exporter": "python",
   "pygments_lexer": "ipython2",
   "version": "2.7.6"
  }
 },
 "nbformat": 4,
 "nbformat_minor": 0
}