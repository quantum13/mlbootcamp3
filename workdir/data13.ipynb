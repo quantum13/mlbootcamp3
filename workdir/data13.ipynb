{
 "cells": [
  {
   "cell_type": "code",
   "execution_count": 4,
   "metadata": {
    "collapsed": true
   },
   "outputs": [],
   "source": [
    "import pandas as pd\n",
    "from sklearn.cluster import KMeans\n",
    "import numpy as np"
   ]
  },
  {
   "cell_type": "code",
   "execution_count": 5,
   "metadata": {},
   "outputs": [
    {
     "data": {
      "text/plain": [
       "((25289, 264), (25289, 264), (50578, 264))"
      ]
     },
     "execution_count": 5,
     "metadata": {},
     "output_type": "execute_result"
    }
   ],
   "source": [
    "train_x = pd.read_csv('workdir/data/v0010_train_x.csv', index_col='id')\n",
    "test_x = pd.read_csv('workdir/data/v0010_test_x.csv', index_col='id')\n",
    "\n",
    "res = pd.concat([train_x, test_x])\n",
    "    \n",
    "\n",
    "train_x.shape, test_x.shape, res.shape"
   ]
  },
  {
   "cell_type": "code",
   "execution_count": 6,
   "metadata": {},
   "outputs": [],
   "source": [
    "k15 = KMeans(n_clusters=15, precompute_distances = True, n_jobs=-1)\n",
    "k15.fit(res)\n",
    "k10 = KMeans(n_clusters=10, precompute_distances = True, n_jobs=-1)\n",
    "k10.fit(res)\n",
    "k6 = KMeans(n_clusters=6, precompute_distances = True, n_jobs=-1)\n",
    "k6.fit(res)\n",
    "k3 = KMeans(n_clusters=3, precompute_distances = True, n_jobs=-1)\n",
    "k3.fit(res)\n",
    "\n",
    "\n",
    "k15_res = k15.predict(res)[None].T\n",
    "k10_res =  k10.predict(res)[None].T\n",
    "k6_res =  k6.predict(res)[None].T\n",
    "k3_res =  k3.predict(res)[None].T\n",
    "\n",
    "# k20 = KMeans(n_clusters=20, precompute_distances = True, n_jobs=-1)\n",
    "# k20.fit(res)\n",
    "# k11 = KMeans(n_clusters=11, precompute_distances = True, n_jobs=-1)\n",
    "# k11.fit(res)\n",
    "# k5 = KMeans(n_clusters=5, precompute_distances = True, n_jobs=-1)\n",
    "# k5.fit(res)\n",
    "# \n",
    "# k20_res = k20.predict(res)[None].T\n",
    "# k11_res = k11.predict(res)[None].T\n",
    "# k5_res =  k5.predict(res)[None].T"
   ]
  },
  {
   "cell_type": "code",
   "execution_count": 8,
   "metadata": {},
   "outputs": [],
   "source": [
    "res['k15'] = k15_res\n",
    "res['k10'] = k10_res\n",
    "res['k6'] = k6_res\n",
    "res['k3'] = k3_res\n",
    "\n",
    "# res['k20'] = k20_res\n",
    "# res['k11'] = k11_res\n",
    "# res['k5'] = k5_res\n",
    "\n",
    "res = pd.get_dummies(res, columns=[\"k15\", \"k6\",\"k10\", \"k3\",])#"
   ]
  },
  {
   "cell_type": "code",
   "execution_count": 9,
   "metadata": {},
   "outputs": [],
   "source": [
    "train_x = res.loc[train_x.index.values]\n",
    "test_x = res.loc[test_x.index.values]"
   ]
  },
  {
   "cell_type": "code",
   "execution_count": 15,
   "metadata": {},
   "outputs": [
    {
     "data": {
      "text/plain": [
       "((25289, 298), (25289, 298), (50578, 298))"
      ]
     },
     "execution_count": 15,
     "metadata": {},
     "output_type": "execute_result"
    }
   ],
   "source": [
    "train_x.shape, test_x.shape, res.shape"
   ]
  },
  {
   "cell_type": "code",
   "execution_count": 16,
   "metadata": {},
   "outputs": [],
   "source": [
    "train_x.to_csv('workdir/data/v0013_train_x.csv')\n",
    "test_x.to_csv('workdir/data/v0013_test_x.csv')\n",
    "test = pd.read_csv('workdir/data/v0007_train_y.csv', index_col='id')\n",
    "test.to_csv('workdir/data/v0013_train_y.csv')"
   ]
  },
  {
   "cell_type": "code",
   "execution_count": 36,
   "metadata": {},
   "outputs": [],
   "source": [
    ""
   ]
  },
  {
   "cell_type": "code",
   "execution_count": 10,
   "metadata": {},
   "outputs": [],
   "source": [
    ""
   ]
  }
 ],
 "metadata": {
  "kernelspec": {
   "display_name": "Python 2",
   "language": "python",
   "name": "python2"
  },
  "language_info": {
   "codemirror_mode": {
    "name": "ipython",
    "version": 2.0
   },
   "file_extension": ".py",
   "mimetype": "text/x-python",
   "name": "python",
   "nbconvert_exporter": "python",
   "pygments_lexer": "ipython2",
   "version": "2.7.6"
  }
 },
 "nbformat": 4,
 "nbformat_minor": 0
}