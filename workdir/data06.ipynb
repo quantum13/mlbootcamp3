{
 "cells": [
  {
   "cell_type": "code",
   "execution_count": 9,
   "metadata": {
    "collapsed": true
   },
   "outputs": [],
   "source": [
    "import pandas as pd"
   ]
  },
  {
   "cell_type": "code",
   "execution_count": 8,
   "metadata": {},
   "outputs": [],
   "source": [
    "from itertools import combinations_with_replacement\n",
    "\n",
    "train = pd.read_csv('workdir/data/v0001_train_x.csv', index_col='id')\n",
    "for c1, c2 in combinations_with_replacement(train.columns, 2):\n",
    "    train[\"x_{}_{}\".format(c1,c2)] = train[c1] * train[c2]\n",
    "    train[\"div_{}_{}\".format(c1,c2)] = train[c1] / (train[c2] if train[c2].min()>0 else train[c2]+1)\n",
    "    train[\"plus_{}_{}\".format(c1,c2)] = train[c1] + train[c2]\n",
    "    \n",
    "train.to_csv('workdir/data/v0006_train_x.csv')\n",
    "\n",
    "train = pd.read_csv('workdir/data/v0001_test_x.csv', index_col='id')\n",
    "for c1, c2 in combinations_with_replacement(train.columns, 2):\n",
    "    train[\"x_{}_{}\".format(c1,c2)] = train[c1] * train[c2]\n",
    "    train[\"div_{}_{}\".format(c1,c2)] = train[c1] / (train[c2] if train[c2].min()>0 else train[c2]+1)\n",
    "    train[\"plus_{}_{}\".format(c1,c2)] = train[c1] + train[c2]\n",
    "    \n",
    "train.to_csv('workdir/data/v0006_test_x.csv')\n",
    "\n",
    "test = pd.read_csv('workdir/data/v0001_train_y.csv', index_col='id')\n",
    "test.to_csv('workdir/data/v0006_train_y.csv')"
   ]
  },
  {
   "cell_type": "code",
   "execution_count": 10,
   "metadata": {},
   "outputs": [],
   "source": [
    "from itertools import combinations_with_replacement\n",
    "\n",
    "train = pd.read_csv('workdir/data/v0001_train_x.csv', index_col='id')\n",
    "for c1, c2 in combinations_with_replacement(train.columns, 2):\n",
    "    train[\"x_{}_{}\".format(c1,c2)] = train[c1] * train[c2]\n",
    "    train[\"div_{}_{}\".format(c1,c2)] = train[c1] / (train[c2] if train[c2].min()>0 else train[c2]+1)\n",
    "    train[\"plus_{}_{}\".format(c1,c2)] = train[c1] + train[c2]\n",
    "    train[\"min_{}_{}\".format(c1,c2)] = train[c1] - train[c2]\n",
    "    \n",
    "train.to_csv('workdir/data/v0007_train_x.csv')\n",
    "\n",
    "train = pd.read_csv('workdir/data/v0001_test_x.csv', index_col='id')\n",
    "for c1, c2 in combinations_with_replacement(train.columns, 2):\n",
    "    train[\"x_{}_{}\".format(c1,c2)] = train[c1] * train[c2]\n",
    "    train[\"div_{}_{}\".format(c1,c2)] = train[c1] / (train[c2] if train[c2].min()>0 else train[c2]+1)\n",
    "    train[\"plus_{}_{}\".format(c1,c2)] = train[c1] + train[c2]\n",
    "    train[\"min_{}_{}\".format(c1,c2)] = train[c1] - train[c2]\n",
    "    \n",
    "train.to_csv('workdir/data/v0007_test_x.csv')\n",
    "\n",
    "test = pd.read_csv('workdir/data/v0001_train_y.csv', index_col='id')\n",
    "test.to_csv('workdir/data/v0007_train_y.csv')"
   ]
  },
  {
   "cell_type": "code",
   "execution_count": 14,
   "metadata": {},
   "outputs": [],
   "source": [
    ""
   ]
  },
  {
   "cell_type": "code",
   "execution_count": 36,
   "metadata": {},
   "outputs": [],
   "source": [
    ""
   ]
  },
  {
   "cell_type": "code",
   "execution_count": 10,
   "metadata": {},
   "outputs": [],
   "source": [
    ""
   ]
  }
 ],
 "metadata": {
  "kernelspec": {
   "display_name": "Python 2",
   "language": "python",
   "name": "python2"
  },
  "language_info": {
   "codemirror_mode": {
    "name": "ipython",
    "version": 2.0
   },
   "file_extension": ".py",
   "mimetype": "text/x-python",
   "name": "python",
   "nbconvert_exporter": "python",
   "pygments_lexer": "ipython2",
   "version": "2.7.6"
  }
 },
 "nbformat": 4,
 "nbformat_minor": 0
}